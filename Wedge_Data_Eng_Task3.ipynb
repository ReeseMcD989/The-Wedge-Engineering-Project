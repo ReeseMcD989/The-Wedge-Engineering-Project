{
 "cells": [
  {
   "cell_type": "markdown",
   "id": "54966a51",
   "metadata": {},
   "source": [
    "## Task 3: Building a database of summary tables from the Wedge transaction data."
   ]
  },
  {
   "cell_type": "code",
   "execution_count": 1,
   "id": "267778a4",
   "metadata": {},
   "outputs": [],
   "source": [
    "import sqlite3\n",
    "import os\n",
    "import re\n",
    "import datetime \n",
    "from zipfile import ZipFile\n",
    "import pandas as pd\n",
    "import numpy as np\n",
    "import pandas_gbq\n",
    "import janitor\n",
    "import shutil\n",
    "import glob\n",
    "from google.cloud import bigquery\n",
    "from google.oauth2 import service_account"
   ]
  },
  {
   "cell_type": "code",
   "execution_count": 2,
   "id": "f9723515",
   "metadata": {},
   "outputs": [],
   "source": [
    "# Building the private key.\n",
    "service_path = \"C:\\\\Users\\\\rsmcd\\\\OneDrive\\\\Desktop\\\\MSBA Fall 2022\\\\\" # Path to json file.\n",
    "service_file = 'reese-msba-9558fdd20984.json' # Name of json file.\n",
    "gbq_proj_id = 'reese-msba' # Name of project.\n",
    "\n",
    "# Creates single variable that leads to json file.\n",
    "private_key =service_path + service_file  "
   ]
  },
  {
   "cell_type": "code",
   "execution_count": 3,
   "id": "f521c185",
   "metadata": {},
   "outputs": [],
   "source": [
    "# Now we pass in our credentials so that Python has permission to access our project.\n",
    "credentials = service_account.Credentials.from_service_account_file(service_path + service_file)"
   ]
  },
  {
   "cell_type": "code",
   "execution_count": 4,
   "id": "57e427b3",
   "metadata": {},
   "outputs": [],
   "source": [
    "# And finally we establish our connection.\n",
    "client = bigquery.Client(credentials = credentials, project=gbq_proj_id)"
   ]
  },
  {
   "cell_type": "code",
   "execution_count": 5,
   "id": "32843087",
   "metadata": {},
   "outputs": [
    {
     "name": "stdout",
     "output_type": "stream",
     "text": [
      "reese-msba:dram_shop\n",
      "reese-msba:wedge_transactions\n"
     ]
    }
   ],
   "source": [
    "# Look at list of data sets in client.\n",
    "for item in client.list_datasets() : \n",
    "    print(item.full_dataset_id)"
   ]
  },
  {
   "cell_type": "markdown",
   "id": "7461a0ab",
   "metadata": {},
   "source": [
    "The following few cells access the Wedge data in GBQ to build the tables that will be used to build the dataframe."
   ]
  },
  {
   "cell_type": "code",
   "execution_count": 6,
   "id": "b2ccfe53",
   "metadata": {},
   "outputs": [
    {
     "name": "stderr",
     "output_type": "stream",
     "text": [
      "Downloading: 100%|██████████████████████████████████████████████████████████| 32562/32562 [00:02<00:00, 13658.11rows/s]\n"
     ]
    }
   ],
   "source": [
    "# Builds a table with date, hour, total spend, number of transactions, and number of items.\n",
    "query = \"\"\"\n",
    "SELECT EXTRACT(DATE FROM datetime) AS date\n",
    ", EXTRACT(HOUR FROM datetime) AS hour\n",
    ", ROUND(SUM(total), 2) AS spend \n",
    ", COUNT(DISTINCT CONCAT(CAST(EXTRACT(DATE FROM datetime) AS STRING), CAST(register_no AS STRING), CAST(emp_no AS STRING), CAST(trans_no AS STRING))) AS trans\n",
    ", SUM(CASE trans_status WHEN \"V\" THEN -1 WHEN \"R\" THEN -1 ELSE 1 END) AS items\n",
    "FROM `reese-msba.wedge_transactions.transArchive*` \n",
    "WHERE (department != 0\n",
    "AND department != 15)\n",
    "AND (trans_status IS NULL\n",
    "OR trans_status = \"V\"\n",
    "OR trans_status = \"R\"\n",
    "OR trans_status = '')\n",
    "GROUP BY date, hour\n",
    "ORDER BY date DESC, hour DESC\n",
    "\"\"\"\n",
    "\n",
    "date_hour_spend = pandas_gbq.read_gbq(query,project_id = gbq_proj_id)"
   ]
  },
  {
   "cell_type": "code",
   "execution_count": 7,
   "id": "eeff655c",
   "metadata": {},
   "outputs": [
    {
     "data": {
      "text/html": [
       "<div>\n",
       "<style scoped>\n",
       "    .dataframe tbody tr th:only-of-type {\n",
       "        vertical-align: middle;\n",
       "    }\n",
       "\n",
       "    .dataframe tbody tr th {\n",
       "        vertical-align: top;\n",
       "    }\n",
       "\n",
       "    .dataframe thead th {\n",
       "        text-align: right;\n",
       "    }\n",
       "</style>\n",
       "<table border=\"1\" class=\"dataframe\">\n",
       "  <thead>\n",
       "    <tr style=\"text-align: right;\">\n",
       "      <th></th>\n",
       "      <th>date</th>\n",
       "      <th>hour</th>\n",
       "      <th>spend</th>\n",
       "      <th>trans</th>\n",
       "      <th>items</th>\n",
       "    </tr>\n",
       "  </thead>\n",
       "  <tbody>\n",
       "    <tr>\n",
       "      <th>0</th>\n",
       "      <td>2017-01-31</td>\n",
       "      <td>22</td>\n",
       "      <td>518.25</td>\n",
       "      <td>1</td>\n",
       "      <td>165</td>\n",
       "    </tr>\n",
       "    <tr>\n",
       "      <th>1</th>\n",
       "      <td>2017-01-31</td>\n",
       "      <td>21</td>\n",
       "      <td>43655.85</td>\n",
       "      <td>115</td>\n",
       "      <td>12495</td>\n",
       "    </tr>\n",
       "    <tr>\n",
       "      <th>2</th>\n",
       "      <td>2017-01-31</td>\n",
       "      <td>20</td>\n",
       "      <td>69527.40</td>\n",
       "      <td>160</td>\n",
       "      <td>18540</td>\n",
       "    </tr>\n",
       "    <tr>\n",
       "      <th>3</th>\n",
       "      <td>2017-01-31</td>\n",
       "      <td>19</td>\n",
       "      <td>80792.40</td>\n",
       "      <td>208</td>\n",
       "      <td>20670</td>\n",
       "    </tr>\n",
       "    <tr>\n",
       "      <th>4</th>\n",
       "      <td>2017-01-31</td>\n",
       "      <td>18</td>\n",
       "      <td>104887.80</td>\n",
       "      <td>255</td>\n",
       "      <td>25695</td>\n",
       "    </tr>\n",
       "    <tr>\n",
       "      <th>...</th>\n",
       "      <td>...</td>\n",
       "      <td>...</td>\n",
       "      <td>...</td>\n",
       "      <td>...</td>\n",
       "      <td>...</td>\n",
       "    </tr>\n",
       "    <tr>\n",
       "      <th>32557</th>\n",
       "      <td>2010-01-01</td>\n",
       "      <td>13</td>\n",
       "      <td>4654.52</td>\n",
       "      <td>154</td>\n",
       "      <td>1365</td>\n",
       "    </tr>\n",
       "    <tr>\n",
       "      <th>32558</th>\n",
       "      <td>2010-01-01</td>\n",
       "      <td>12</td>\n",
       "      <td>3886.51</td>\n",
       "      <td>124</td>\n",
       "      <td>1143</td>\n",
       "    </tr>\n",
       "    <tr>\n",
       "      <th>32559</th>\n",
       "      <td>2010-01-01</td>\n",
       "      <td>11</td>\n",
       "      <td>4001.66</td>\n",
       "      <td>118</td>\n",
       "      <td>1108</td>\n",
       "    </tr>\n",
       "    <tr>\n",
       "      <th>32560</th>\n",
       "      <td>2010-01-01</td>\n",
       "      <td>10</td>\n",
       "      <td>3128.55</td>\n",
       "      <td>82</td>\n",
       "      <td>913</td>\n",
       "    </tr>\n",
       "    <tr>\n",
       "      <th>32561</th>\n",
       "      <td>2010-01-01</td>\n",
       "      <td>9</td>\n",
       "      <td>1006.28</td>\n",
       "      <td>36</td>\n",
       "      <td>245</td>\n",
       "    </tr>\n",
       "  </tbody>\n",
       "</table>\n",
       "<p>32562 rows × 5 columns</p>\n",
       "</div>"
      ],
      "text/plain": [
       "             date  hour      spend  trans  items\n",
       "0      2017-01-31    22     518.25      1    165\n",
       "1      2017-01-31    21   43655.85    115  12495\n",
       "2      2017-01-31    20   69527.40    160  18540\n",
       "3      2017-01-31    19   80792.40    208  20670\n",
       "4      2017-01-31    18  104887.80    255  25695\n",
       "...           ...   ...        ...    ...    ...\n",
       "32557  2010-01-01    13    4654.52    154   1365\n",
       "32558  2010-01-01    12    3886.51    124   1143\n",
       "32559  2010-01-01    11    4001.66    118   1108\n",
       "32560  2010-01-01    10    3128.55     82    913\n",
       "32561  2010-01-01     9    1006.28     36    245\n",
       "\n",
       "[32562 rows x 5 columns]"
      ]
     },
     "execution_count": 7,
     "metadata": {},
     "output_type": "execute_result"
    }
   ],
   "source": [
    "date_hour_spend"
   ]
  },
  {
   "cell_type": "code",
   "execution_count": 8,
   "id": "a95bd27d",
   "metadata": {},
   "outputs": [
    {
     "name": "stderr",
     "output_type": "stream",
     "text": [
      "Downloading: 100%|████████████████████████████████████████████████████████| 676786/676786 [00:34<00:00, 19672.76rows/s]\n"
     ]
    }
   ],
   "source": [
    "# Builds a table with card_no, year, month, sales, number of transactions, and number of items.\n",
    "query = \"\"\"\n",
    "SELECT card_no\n",
    ", EXTRACT(YEAR FROM datetime) AS year\n",
    ", EXTRACT(MONTH FROM datetime) AS month\n",
    ", ROUND(SUM(total), 2) AS sales \n",
    ", COUNT(DISTINCT CONCAT(CAST(EXTRACT(DATE FROM datetime) AS STRING), CAST(register_no AS STRING), CAST(emp_no AS STRING), CAST(trans_no AS STRING))) AS trans\n",
    ", SUM(CASE trans_status WHEN \"V\" THEN -1 WHEN \"R\" THEN -1 ELSE 1 END) AS items\n",
    "FROM `reese-msba.wedge_transactions.transArchive*` \n",
    "WHERE (department != 0\n",
    "AND department != 15)\n",
    "AND (trans_status IS NULL\n",
    "OR trans_status = \"V\"\n",
    "OR trans_status = \"R\"\n",
    "OR trans_status = '')\n",
    "GROUP BY card_no, year, month \n",
    "ORDER BY year DESC, month DESC\n",
    "\"\"\"\n",
    "\n",
    "owner_spend = pandas_gbq.read_gbq(query,project_id = gbq_proj_id)"
   ]
  },
  {
   "cell_type": "code",
   "execution_count": 9,
   "id": "d9a155f1",
   "metadata": {},
   "outputs": [
    {
     "data": {
      "text/html": [
       "<div>\n",
       "<style scoped>\n",
       "    .dataframe tbody tr th:only-of-type {\n",
       "        vertical-align: middle;\n",
       "    }\n",
       "\n",
       "    .dataframe tbody tr th {\n",
       "        vertical-align: top;\n",
       "    }\n",
       "\n",
       "    .dataframe thead th {\n",
       "        text-align: right;\n",
       "    }\n",
       "</style>\n",
       "<table border=\"1\" class=\"dataframe\">\n",
       "  <thead>\n",
       "    <tr style=\"text-align: right;\">\n",
       "      <th></th>\n",
       "      <th>card_no</th>\n",
       "      <th>year</th>\n",
       "      <th>month</th>\n",
       "      <th>sales</th>\n",
       "      <th>trans</th>\n",
       "      <th>items</th>\n",
       "    </tr>\n",
       "  </thead>\n",
       "  <tbody>\n",
       "    <tr>\n",
       "      <th>0</th>\n",
       "      <td>13173.0</td>\n",
       "      <td>2017</td>\n",
       "      <td>1</td>\n",
       "      <td>5215.05</td>\n",
       "      <td>15</td>\n",
       "      <td>1125</td>\n",
       "    </tr>\n",
       "    <tr>\n",
       "      <th>1</th>\n",
       "      <td>3.0</td>\n",
       "      <td>2017</td>\n",
       "      <td>1</td>\n",
       "      <td>7034269.95</td>\n",
       "      <td>25029</td>\n",
       "      <td>1816980</td>\n",
       "    </tr>\n",
       "    <tr>\n",
       "      <th>2</th>\n",
       "      <td>49856.0</td>\n",
       "      <td>2017</td>\n",
       "      <td>1</td>\n",
       "      <td>313.50</td>\n",
       "      <td>2</td>\n",
       "      <td>105</td>\n",
       "    </tr>\n",
       "    <tr>\n",
       "      <th>3</th>\n",
       "      <td>14496.0</td>\n",
       "      <td>2017</td>\n",
       "      <td>1</td>\n",
       "      <td>1695.45</td>\n",
       "      <td>3</td>\n",
       "      <td>510</td>\n",
       "    </tr>\n",
       "    <tr>\n",
       "      <th>4</th>\n",
       "      <td>64761.0</td>\n",
       "      <td>2017</td>\n",
       "      <td>1</td>\n",
       "      <td>12572.25</td>\n",
       "      <td>47</td>\n",
       "      <td>3060</td>\n",
       "    </tr>\n",
       "    <tr>\n",
       "      <th>...</th>\n",
       "      <td>...</td>\n",
       "      <td>...</td>\n",
       "      <td>...</td>\n",
       "      <td>...</td>\n",
       "      <td>...</td>\n",
       "      <td>...</td>\n",
       "    </tr>\n",
       "    <tr>\n",
       "      <th>676781</th>\n",
       "      <td>12390.0</td>\n",
       "      <td>2010</td>\n",
       "      <td>1</td>\n",
       "      <td>21.52</td>\n",
       "      <td>1</td>\n",
       "      <td>4</td>\n",
       "    </tr>\n",
       "    <tr>\n",
       "      <th>676782</th>\n",
       "      <td>15050.0</td>\n",
       "      <td>2010</td>\n",
       "      <td>1</td>\n",
       "      <td>31.29</td>\n",
       "      <td>1</td>\n",
       "      <td>5</td>\n",
       "    </tr>\n",
       "    <tr>\n",
       "      <th>676783</th>\n",
       "      <td>21184.0</td>\n",
       "      <td>2010</td>\n",
       "      <td>1</td>\n",
       "      <td>17.94</td>\n",
       "      <td>1</td>\n",
       "      <td>3</td>\n",
       "    </tr>\n",
       "    <tr>\n",
       "      <th>676784</th>\n",
       "      <td>15475.0</td>\n",
       "      <td>2010</td>\n",
       "      <td>1</td>\n",
       "      <td>9.97</td>\n",
       "      <td>1</td>\n",
       "      <td>3</td>\n",
       "    </tr>\n",
       "    <tr>\n",
       "      <th>676785</th>\n",
       "      <td>50120.0</td>\n",
       "      <td>2010</td>\n",
       "      <td>1</td>\n",
       "      <td>11.94</td>\n",
       "      <td>1</td>\n",
       "      <td>1</td>\n",
       "    </tr>\n",
       "  </tbody>\n",
       "</table>\n",
       "<p>676786 rows × 6 columns</p>\n",
       "</div>"
      ],
      "text/plain": [
       "        card_no  year  month       sales  trans    items\n",
       "0       13173.0  2017      1     5215.05     15     1125\n",
       "1           3.0  2017      1  7034269.95  25029  1816980\n",
       "2       49856.0  2017      1      313.50      2      105\n",
       "3       14496.0  2017      1     1695.45      3      510\n",
       "4       64761.0  2017      1    12572.25     47     3060\n",
       "...         ...   ...    ...         ...    ...      ...\n",
       "676781  12390.0  2010      1       21.52      1        4\n",
       "676782  15050.0  2010      1       31.29      1        5\n",
       "676783  21184.0  2010      1       17.94      1        3\n",
       "676784  15475.0  2010      1        9.97      1        3\n",
       "676785  50120.0  2010      1       11.94      1        1\n",
       "\n",
       "[676786 rows x 6 columns]"
      ]
     },
     "execution_count": 9,
     "metadata": {},
     "output_type": "execute_result"
    }
   ],
   "source": [
    "owner_spend"
   ]
  },
  {
   "cell_type": "code",
   "execution_count": 10,
   "id": "f7814dbd",
   "metadata": {},
   "outputs": [
    {
     "name": "stderr",
     "output_type": "stream",
     "text": [
      "Downloading: 100%|██████████████████████████████████████████████████████| 1001232/1001232 [01:18<00:00, 12725.70rows/s]\n"
     ]
    }
   ],
   "source": [
    "# Builds a table with upc, description, department number, department name, year, month, sales, transactions, and items.\n",
    "query = \"\"\"\n",
    "SELECT rmsba.upc\n",
    ", rmsba.description\n",
    ", rmsba.department\n",
    ", umsba.dept_name\n",
    ", EXTRACT(YEAR FROM rmsba.datetime) AS year\n",
    ", EXTRACT(MONTH FROM rmsba.datetime) AS month\n",
    ", ROUND(SUM(rmsba.total), 2) AS sales \n",
    ", COUNT(DISTINCT CONCAT(CAST(EXTRACT(DATE FROM datetime) AS STRING), CAST(rmsba.register_no AS STRING), CAST(rmsba.emp_no AS STRING), CAST(rmsba.trans_no AS STRING))) AS trans\n",
    ", SUM(CASE rmsba.trans_status WHEN \"V\" THEN -1 WHEN \"R\" THEN -1 ELSE 1 END) AS items\n",
    "FROM `reese-msba.wedge_transactions.transArchive*` as rmsba\n",
    "INNER JOIN `umt-msba.wedge_transactions.department_lookup` as umsba\n",
    "ON rmsba.department = umsba.department\n",
    "WHERE (rmsba.department != 0\n",
    "AND rmsba.department != 15)\n",
    "AND (rmsba.trans_status IS NULL\n",
    "OR rmsba.trans_status = \"V\"\n",
    "OR rmsba.trans_status = \"R\"\n",
    "OR rmsba.trans_status = '')\n",
    "GROUP BY rmsba.upc, rmsba.description, rmsba.department, dept_name, year, month\n",
    "ORDER BY year DESC, month DESC\n",
    "\"\"\"\n",
    "\n",
    "dept_spend = pandas_gbq.read_gbq(query,project_id = gbq_proj_id)"
   ]
  },
  {
   "cell_type": "code",
   "execution_count": 11,
   "id": "7e7c26df",
   "metadata": {},
   "outputs": [
    {
     "data": {
      "text/html": [
       "<div>\n",
       "<style scoped>\n",
       "    .dataframe tbody tr th:only-of-type {\n",
       "        vertical-align: middle;\n",
       "    }\n",
       "\n",
       "    .dataframe tbody tr th {\n",
       "        vertical-align: top;\n",
       "    }\n",
       "\n",
       "    .dataframe thead th {\n",
       "        text-align: right;\n",
       "    }\n",
       "</style>\n",
       "<table border=\"1\" class=\"dataframe\">\n",
       "  <thead>\n",
       "    <tr style=\"text-align: right;\">\n",
       "      <th></th>\n",
       "      <th>upc</th>\n",
       "      <th>description</th>\n",
       "      <th>department</th>\n",
       "      <th>dept_name</th>\n",
       "      <th>year</th>\n",
       "      <th>month</th>\n",
       "      <th>sales</th>\n",
       "      <th>trans</th>\n",
       "      <th>items</th>\n",
       "    </tr>\n",
       "  </thead>\n",
       "  <tbody>\n",
       "    <tr>\n",
       "      <th>0</th>\n",
       "      <td>0003320001110</td>\n",
       "      <td>Baking Soda 16oz A&amp;H</td>\n",
       "      <td>1.0</td>\n",
       "      <td>PACKAGED GROCERY</td>\n",
       "      <td>2017</td>\n",
       "      <td>1</td>\n",
       "      <td>2212.65</td>\n",
       "      <td>128</td>\n",
       "      <td>2205</td>\n",
       "    </tr>\n",
       "    <tr>\n",
       "      <th>1</th>\n",
       "      <td>0001299311202</td>\n",
       "      <td>Peach Pear Spk.Water 12pk LaCr</td>\n",
       "      <td>1.0</td>\n",
       "      <td>PACKAGED GROCERY</td>\n",
       "      <td>2017</td>\n",
       "      <td>1</td>\n",
       "      <td>7535.70</td>\n",
       "      <td>99</td>\n",
       "      <td>1530</td>\n",
       "    </tr>\n",
       "    <tr>\n",
       "      <th>2</th>\n",
       "      <td>0020132200000</td>\n",
       "      <td>Toasted Garbanzo Salad</td>\n",
       "      <td>8.0</td>\n",
       "      <td>DELI</td>\n",
       "      <td>2017</td>\n",
       "      <td>1</td>\n",
       "      <td>10453.50</td>\n",
       "      <td>183</td>\n",
       "      <td>2955</td>\n",
       "    </tr>\n",
       "    <tr>\n",
       "      <th>3</th>\n",
       "      <td>0081989801064</td>\n",
       "      <td>Chkn.Wild Rice Soup 17.4oz BtN</td>\n",
       "      <td>1.0</td>\n",
       "      <td>PACKAGED GROCERY</td>\n",
       "      <td>2017</td>\n",
       "      <td>1</td>\n",
       "      <td>897.75</td>\n",
       "      <td>13</td>\n",
       "      <td>225</td>\n",
       "    </tr>\n",
       "    <tr>\n",
       "      <th>4</th>\n",
       "      <td>0065474935100</td>\n",
       "      <td>Lavender Shampoo 11oz Ava</td>\n",
       "      <td>11.0</td>\n",
       "      <td>PERSONAL CARE</td>\n",
       "      <td>2017</td>\n",
       "      <td>1</td>\n",
       "      <td>1467.75</td>\n",
       "      <td>14</td>\n",
       "      <td>225</td>\n",
       "    </tr>\n",
       "    <tr>\n",
       "      <th>...</th>\n",
       "      <td>...</td>\n",
       "      <td>...</td>\n",
       "      <td>...</td>\n",
       "      <td>...</td>\n",
       "      <td>...</td>\n",
       "      <td>...</td>\n",
       "      <td>...</td>\n",
       "      <td>...</td>\n",
       "      <td>...</td>\n",
       "    </tr>\n",
       "    <tr>\n",
       "      <th>1001227</th>\n",
       "      <td>0065264200090</td>\n",
       "      <td>O.Peach Spread 11.64oz Rig</td>\n",
       "      <td>1.0</td>\n",
       "      <td>PACKAGED GROCERY</td>\n",
       "      <td>2010</td>\n",
       "      <td>1</td>\n",
       "      <td>42.21</td>\n",
       "      <td>9</td>\n",
       "      <td>9</td>\n",
       "    </tr>\n",
       "    <tr>\n",
       "      <th>1001228</th>\n",
       "      <td>0007572000061</td>\n",
       "      <td>Nat.Spring Water 1L PS</td>\n",
       "      <td>1.0</td>\n",
       "      <td>PACKAGED GROCERY</td>\n",
       "      <td>2010</td>\n",
       "      <td>1</td>\n",
       "      <td>134.64</td>\n",
       "      <td>119</td>\n",
       "      <td>135</td>\n",
       "    </tr>\n",
       "    <tr>\n",
       "      <th>1001229</th>\n",
       "      <td>0020704900000</td>\n",
       "      <td>Clear Wide Mouth Jar 1oz</td>\n",
       "      <td>9.0</td>\n",
       "      <td>GEN MERCH</td>\n",
       "      <td>2010</td>\n",
       "      <td>1</td>\n",
       "      <td>147.06</td>\n",
       "      <td>55</td>\n",
       "      <td>72</td>\n",
       "    </tr>\n",
       "    <tr>\n",
       "      <th>1001230</th>\n",
       "      <td>0007260974183</td>\n",
       "      <td>O.Mint Chip IceCream 48oz Ald</td>\n",
       "      <td>6.0</td>\n",
       "      <td>FROZEN</td>\n",
       "      <td>2010</td>\n",
       "      <td>1</td>\n",
       "      <td>204.29</td>\n",
       "      <td>30</td>\n",
       "      <td>31</td>\n",
       "    </tr>\n",
       "    <tr>\n",
       "      <th>1001231</th>\n",
       "      <td>0081264701010</td>\n",
       "      <td>Original Red Chico Bag</td>\n",
       "      <td>9.0</td>\n",
       "      <td>GEN MERCH</td>\n",
       "      <td>2010</td>\n",
       "      <td>1</td>\n",
       "      <td>4.49</td>\n",
       "      <td>1</td>\n",
       "      <td>1</td>\n",
       "    </tr>\n",
       "  </tbody>\n",
       "</table>\n",
       "<p>1001232 rows × 9 columns</p>\n",
       "</div>"
      ],
      "text/plain": [
       "                   upc                     description  department  \\\n",
       "0        0003320001110            Baking Soda 16oz A&H         1.0   \n",
       "1        0001299311202  Peach Pear Spk.Water 12pk LaCr         1.0   \n",
       "2        0020132200000          Toasted Garbanzo Salad         8.0   \n",
       "3        0081989801064  Chkn.Wild Rice Soup 17.4oz BtN         1.0   \n",
       "4        0065474935100       Lavender Shampoo 11oz Ava        11.0   \n",
       "...                ...                             ...         ...   \n",
       "1001227  0065264200090      O.Peach Spread 11.64oz Rig         1.0   \n",
       "1001228  0007572000061          Nat.Spring Water 1L PS         1.0   \n",
       "1001229  0020704900000        Clear Wide Mouth Jar 1oz         9.0   \n",
       "1001230  0007260974183   O.Mint Chip IceCream 48oz Ald         6.0   \n",
       "1001231  0081264701010         Original Red Chico Bag          9.0   \n",
       "\n",
       "                dept_name  year  month     sales  trans  items  \n",
       "0        PACKAGED GROCERY  2017      1   2212.65    128   2205  \n",
       "1        PACKAGED GROCERY  2017      1   7535.70     99   1530  \n",
       "2                    DELI  2017      1  10453.50    183   2955  \n",
       "3        PACKAGED GROCERY  2017      1    897.75     13    225  \n",
       "4           PERSONAL CARE  2017      1   1467.75     14    225  \n",
       "...                   ...   ...    ...       ...    ...    ...  \n",
       "1001227  PACKAGED GROCERY  2010      1     42.21      9      9  \n",
       "1001228  PACKAGED GROCERY  2010      1    134.64    119    135  \n",
       "1001229         GEN MERCH  2010      1    147.06     55     72  \n",
       "1001230            FROZEN  2010      1    204.29     30     31  \n",
       "1001231         GEN MERCH  2010      1      4.49      1      1  \n",
       "\n",
       "[1001232 rows x 9 columns]"
      ]
     },
     "execution_count": 11,
     "metadata": {},
     "output_type": "execute_result"
    }
   ],
   "source": [
    "dept_spend"
   ]
  },
  {
   "cell_type": "markdown",
   "id": "1402d037",
   "metadata": {},
   "source": [
    "The next cell exports the tables to csv."
   ]
  },
  {
   "cell_type": "code",
   "execution_count": 12,
   "id": "5cd7f28f",
   "metadata": {},
   "outputs": [],
   "source": [
    "date_hour_spend.to_csv(\"date_hour_spend.csv\", index=False, sep ='\\t')\n",
    "owner_spend.to_csv(\"owner_spend.csv\", index=False, sep ='\\t')\n",
    "dept_spend.to_csv(\"dept_spend.csv\", index=False, sep ='\\t')"
   ]
  },
  {
   "cell_type": "markdown",
   "id": "50fdcb51",
   "metadata": {},
   "source": [
    "This cell creates the data base into which the tables will be read."
   ]
  },
  {
   "cell_type": "code",
   "execution_count": 13,
   "id": "1b7a5303",
   "metadata": {},
   "outputs": [
    {
     "data": {
      "text/plain": [
       "<sqlite3.Cursor at 0x18a4af46260>"
      ]
     },
     "execution_count": 13,
     "metadata": {},
     "output_type": "execute_result"
    }
   ],
   "source": [
    "# Create connection\n",
    "conn = sqlite3.connect('wedge_summary.db')\n",
    "\n",
    "# Create cursor\n",
    "curs = conn.cursor()\n",
    "\n",
    "# Drop table if they exist to start fresh\n",
    "curs.execute(\"DROP TABLE IF EXISTS date_hour_spend\")\n",
    "curs.execute(\"DROP TABLE IF EXISTS owner_spend\")\n",
    "curs.execute(\"DROP TABLE IF EXISTS dept_spend\")"
   ]
  },
  {
   "cell_type": "markdown",
   "id": "8db25bda",
   "metadata": {},
   "source": [
    "The next cell creates tables in the database that correspond in name and data type to the csv files that will be read in."
   ]
  },
  {
   "cell_type": "code",
   "execution_count": 14,
   "id": "136b79c2",
   "metadata": {},
   "outputs": [
    {
     "data": {
      "text/plain": [
       "<sqlite3.Cursor at 0x18a4af46260>"
      ]
     },
     "execution_count": 14,
     "metadata": {},
     "output_type": "execute_result"
    }
   ],
   "source": [
    "curs.execute(\"\"\"CREATE TABLE date_hour_spend(\n",
    "            date text,\n",
    "            hour integer,\n",
    "            spend numeric,\n",
    "            trans integer,\n",
    "            items integer\n",
    ")\"\"\")\n",
    "curs.execute(\"\"\"CREATE TABLE owner_spend(\n",
    "            card_no text,\n",
    "            year integer,\n",
    "            month integer,\n",
    "            sales numeric,\n",
    "            trans integer,\n",
    "            items integer\n",
    ")\"\"\")\n",
    "curs.execute(\"\"\"CREATE TABLE dept_spend(\n",
    "            upc text,\n",
    "            description text,\n",
    "            department text,\n",
    "            dept_name text,\n",
    "            year integer,\n",
    "            month integer,\n",
    "            sales numeric,\n",
    "            trans integer,\n",
    "            items integer\n",
    ")\"\"\")"
   ]
  },
  {
   "cell_type": "markdown",
   "id": "547ea608",
   "metadata": {},
   "source": [
    "Next we prepare the csv data to be inserted into the database tables."
   ]
  },
  {
   "cell_type": "code",
   "execution_count": 15,
   "id": "9475f236",
   "metadata": {},
   "outputs": [],
   "source": [
    "date_hour = []\n",
    "\n",
    "with open(\"date_hour_spend.csv\",'r') as infile : \n",
    "    next(infile)\n",
    " \n",
    "    for line in infile :\n",
    "        line = line.strip().split(\"\\t\")\n",
    "        date_hour.append(line)\n",
    "\n",
    "owner = []        \n",
    "        \n",
    "with open(\"owner_spend.csv\",'r') as infile : \n",
    "    next(infile)\n",
    " \n",
    "    for line in infile :\n",
    "        line = line.strip().split(\"\\t\")\n",
    "        owner.append(line)\n",
    "        \n",
    "dept = []        \n",
    "        \n",
    "with open(\"dept_spend.csv\",'r') as infile : \n",
    "    next(infile)\n",
    " \n",
    "    for line in infile :\n",
    "        line = line.strip().split(\"\\t\")\n",
    "        dept.append(line)        "
   ]
  },
  {
   "cell_type": "markdown",
   "id": "2f5f1370",
   "metadata": {},
   "source": [
    "The next three cells insert the data into the database tables."
   ]
  },
  {
   "cell_type": "code",
   "execution_count": 16,
   "id": "388071be",
   "metadata": {},
   "outputs": [],
   "source": [
    "curs.executemany('''INSERT INTO date_hour_spend (date, hour, spend, trans, items) \n",
    "                   VALUES(?,?,?,?,?)''', date_hour)\n",
    "conn.commit()"
   ]
  },
  {
   "cell_type": "code",
   "execution_count": 17,
   "id": "cf972090",
   "metadata": {},
   "outputs": [],
   "source": [
    "curs.executemany('''INSERT INTO owner_spend (card_no, year, month, sales, trans, items) \n",
    "                   VALUES (?,?,?,?,?,?)''', owner)\n",
    "conn.commit()"
   ]
  },
  {
   "cell_type": "code",
   "execution_count": 18,
   "id": "44ce3398",
   "metadata": {},
   "outputs": [],
   "source": [
    "curs.executemany('''INSERT INTO dept_spend (upc, description, department, dept_name, year, month, sales, trans, items) \n",
    "                   VALUES (?,?,?,?,?,?,?,?,?)''', dept)\n",
    "conn.commit()"
   ]
  },
  {
   "cell_type": "markdown",
   "id": "93d78431",
   "metadata": {},
   "source": [
    "These last few cells query the database to make sure that everything is in working order, and then we close the database connection."
   ]
  },
  {
   "cell_type": "code",
   "execution_count": 19,
   "id": "0d454d3a",
   "metadata": {},
   "outputs": [
    {
     "name": "stdout",
     "output_type": "stream",
     "text": [
      "[('2017-01-31', 22, 518.25, 1, 165), ('2017-01-31', 21, 43655.85, 115, 12495), ('2017-01-31', 20, 69527.4, 160, 18540), ('2017-01-31', 19, 80792.4, 208, 20670), ('2017-01-31', 18, 104887.8, 255, 25695), ('2017-01-31', 17, 89824.65, 245, 23100), ('2017-01-31', 16, 86167.05, 199, 21645), ('2017-01-31', 15, 87650.25, 207, 21900), ('2017-01-31', 14, 83348.25, 185, 21240), ('2017-01-31', 13, 80836.95, 214, 20910)]\n"
     ]
    }
   ],
   "source": [
    "curs.execute(\"\"\"SELECT *\n",
    "            FROM date_hour_spend\n",
    "            LIMIT 10\"\"\")\n",
    "\n",
    "print(curs.fetchall())"
   ]
  },
  {
   "cell_type": "code",
   "execution_count": 20,
   "id": "9a566ff7",
   "metadata": {},
   "outputs": [
    {
     "name": "stdout",
     "output_type": "stream",
     "text": [
      "[('13173.0', 2017, 1, 5215.05, 15, 1125), ('3.0', 2017, 1, 7034269.95, 25029, 1816980), ('49856.0', 2017, 1, 313.5, 2, 105), ('14496.0', 2017, 1, 1695.45, 3, 510), ('64761.0', 2017, 1, 12572.25, 47, 3060), ('16743.0', 2017, 1, 7021.05, 18, 2070), ('22214.0', 2017, 1, 5131.95, 17, 2130), ('19898.0', 2017, 1, 4552.8, 21, 1215), ('11439.0', 2017, 1, 1391.4, 6, 510), ('13511.0', 2017, 1, 4924.5, 3, 1155)]\n"
     ]
    }
   ],
   "source": [
    "curs.execute(\"\"\"SELECT *\n",
    "            FROM owner_spend\n",
    "            LIMIT 10\"\"\")\n",
    "\n",
    "print(curs.fetchall())"
   ]
  },
  {
   "cell_type": "code",
   "execution_count": 21,
   "id": "561d5052",
   "metadata": {},
   "outputs": [
    {
     "name": "stdout",
     "output_type": "stream",
     "text": [
      "[('0003320001110', 'Baking Soda 16oz A&H', '1.0', 'PACKAGED GROCERY', 2017, 1, 2212.65, 128, 2205), ('0001299311202', 'Peach Pear Spk.Water 12pk LaCr', '1.0', 'PACKAGED GROCERY', 2017, 1, 7535.7, 99, 1530), ('0020132200000', 'Toasted Garbanzo Salad', '8.0', 'DELI', 2017, 1, 10453.5, 183, 2955), ('0081989801064', 'Chkn.Wild Rice Soup 17.4oz BtN', '1.0', 'PACKAGED GROCERY', 2017, 1, 897.75, 13, 225), ('0065474935100', 'Lavender Shampoo 11oz Ava', '11.0', 'PERSONAL CARE', 2017, 1, 1467.75, 14, 225), ('0007507010447', 'BlueberryPom.Cereal 12oz Peace', '1.0', 'PACKAGED GROCERY', 2017, 1, 884.25, 16, 255), ('0007732077515', 'Bloom SPF8 Lip Balm 0.15oz', '11.0', 'PERSONAL CARE', 2017, 1, 418.95, 6, 105), ('0079357376456', 'Strawb.Lem.Kombucha 16oz Deane', '4.0', 'REF GROCERY', 2017, 1, 1241.55, 20, 345), ('0081833601023', 'Cod Pate Cat Food 3oz ILY', '1.0', 'PACKAGED GROCERY', 2017, 1, 190.8, 8, 120), ('0000000004208', 'HH WINE Glass Tiamo Pinot Grig', '22.0', 'BEER & WINE', 2017, 1, 360, 4, 60)]\n"
     ]
    }
   ],
   "source": [
    "curs.execute(\"\"\"SELECT *\n",
    "            FROM dept_spend\n",
    "            LIMIT 10\"\"\")\n",
    "\n",
    "print(curs.fetchall())"
   ]
  },
  {
   "cell_type": "code",
   "execution_count": 22,
   "id": "fd3ec043",
   "metadata": {},
   "outputs": [],
   "source": [
    "# Close connection to database\n",
    "conn.close()"
   ]
  }
 ],
 "metadata": {
  "kernelspec": {
   "display_name": "Python 3 (ipykernel)",
   "language": "python",
   "name": "python3"
  },
  "language_info": {
   "codemirror_mode": {
    "name": "ipython",
    "version": 3
   },
   "file_extension": ".py",
   "mimetype": "text/x-python",
   "name": "python",
   "nbconvert_exporter": "python",
   "pygments_lexer": "ipython3",
   "version": "3.9.12"
  }
 },
 "nbformat": 4,
 "nbformat_minor": 5
}
